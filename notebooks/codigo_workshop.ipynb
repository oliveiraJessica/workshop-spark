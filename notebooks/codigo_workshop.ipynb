{
 "cells": [
  {
   "cell_type": "code",
   "execution_count": 57,
   "metadata": {},
   "outputs": [],
   "source": [
    "from pyspark.sql.functions import *\n",
    "from pyspark.sql import SparkSession\n",
    "from pyspark.sql.types import IntegerType\n",
    "from pyspark.sql.window import Window\n",
    "\n",
    "spark = (SparkSession.builder\n",
    "        .master(\"local[*]\")\n",
    "        .appName(\"workshop_spark\")\n",
    "        .getOrCreate())\n",
    "\n",
    "municipios = spark.read.option(\"header\", True).csv(\"../datalake/raw/municipios.csv\")\n",
    "populacao = spark.read.option(\"header\", True).csv(\"../datalake/raw/populacao_municipios.csv\")\n",
    "nomes = spark.read.option(\"header\", True).csv(\"../datalake/raw/nomes_municipios.csv\")"
   ]
  },
  {
   "cell_type": "code",
   "execution_count": 58,
   "metadata": {},
   "outputs": [
    {
     "name": "stdout",
     "output_type": "stream",
     "text": [
      "1000\n",
      "37\n",
      "5570\n",
      "5570\n"
     ]
    }
   ],
   "source": [
    "#filtrar populacao para 2010\n",
    "print(populacao.count())\n",
    "populacao_f = populacao.where(col(\"ano\") == 2010)\n",
    "print(populacao_f.count())\n",
    "print(municipios.count())\n",
    "municipios_f = (municipios\n",
    "                .select(\"id_municipio\", \"municipio\", \"capital_estado\", \"estado\", \"regiao\"))\n",
    "print(municipios_f.count())\n",
    "\n",
    "nomes = nomes.withColumn(\"qtde_nascimentos_ate_2010\", nomes[\"qtde_nascimentos_ate_2010\"].cast(IntegerType()))\n",
    "\n",
    "#Join\n",
    "df = (nomes.join(municipios_f, \"id_municipio\", how=\"left\")\n",
    "           .join(populacao_f, \"id_municipio\", how=\"left\"))"
   ]
  },
  {
   "cell_type": "code",
   "execution_count": 59,
   "metadata": {
    "scrolled": true
   },
   "outputs": [
    {
     "data": {
      "text/plain": [
       "[('id_municipio', 'string'),\n",
       " ('nome', 'string'),\n",
       " ('qtde_nascimentos_ate_2010', 'int'),\n",
       " ('municipio', 'string'),\n",
       " ('capital_estado', 'string'),\n",
       " ('estado', 'string'),\n",
       " ('regiao', 'string'),\n",
       " ('ano', 'string'),\n",
       " ('populacao', 'string')]"
      ]
     },
     "execution_count": 59,
     "metadata": {},
     "output_type": "execute_result"
    }
   ],
   "source": [
    "df.dtypes"
   ]
  },
  {
   "cell_type": "code",
   "execution_count": 60,
   "metadata": {},
   "outputs": [
    {
     "data": {
      "text/html": [
       "<div>\n",
       "<style scoped>\n",
       "    .dataframe tbody tr th:only-of-type {\n",
       "        vertical-align: middle;\n",
       "    }\n",
       "\n",
       "    .dataframe tbody tr th {\n",
       "        vertical-align: top;\n",
       "    }\n",
       "\n",
       "    .dataframe thead th {\n",
       "        text-align: right;\n",
       "    }\n",
       "</style>\n",
       "<table border=\"1\" class=\"dataframe\">\n",
       "  <thead>\n",
       "    <tr style=\"text-align: right;\">\n",
       "      <th></th>\n",
       "      <th>nome</th>\n",
       "      <th>qtde_nascimentos_ate_2010</th>\n",
       "    </tr>\n",
       "  </thead>\n",
       "  <tbody>\n",
       "    <tr>\n",
       "      <th>0</th>\n",
       "      <td>Maria</td>\n",
       "      <td>385816</td>\n",
       "    </tr>\n",
       "    <tr>\n",
       "      <th>1</th>\n",
       "      <td>Jose</td>\n",
       "      <td>163729</td>\n",
       "    </tr>\n",
       "    <tr>\n",
       "      <th>2</th>\n",
       "      <td>Ana</td>\n",
       "      <td>99245</td>\n",
       "    </tr>\n",
       "    <tr>\n",
       "      <th>3</th>\n",
       "      <td>Antonio</td>\n",
       "      <td>94619</td>\n",
       "    </tr>\n",
       "    <tr>\n",
       "      <th>4</th>\n",
       "      <td>Francisco</td>\n",
       "      <td>93829</td>\n",
       "    </tr>\n",
       "  </tbody>\n",
       "</table>\n",
       "</div>"
      ],
      "text/plain": [
       "        nome  qtde_nascimentos_ate_2010\n",
       "0      Maria                     385816\n",
       "1       Jose                     163729\n",
       "2        Ana                      99245\n",
       "3    Antonio                      94619\n",
       "4  Francisco                      93829"
      ]
     },
     "execution_count": 60,
     "metadata": {},
     "output_type": "execute_result"
    }
   ],
   "source": [
    "(df.select(\"nome\", \"qtde_nascimentos_ate_2010\")\n",
    "  .groupby(\"nome\")\n",
    "  .agg( sum(\"qtde_nascimentos_ate_2010\")\n",
    "        .alias(\"qtde_nascimentos_ate_2010\"))\n",
    "  .sort(col(\"qtde_nascimentos_ate_2010\").desc())\n",
    "  .limit(5).toPandas())"
   ]
  },
  {
   "cell_type": "code",
   "execution_count": 61,
   "metadata": {},
   "outputs": [
    {
     "data": {
      "text/html": [
       "<div>\n",
       "<style scoped>\n",
       "    .dataframe tbody tr th:only-of-type {\n",
       "        vertical-align: middle;\n",
       "    }\n",
       "\n",
       "    .dataframe tbody tr th {\n",
       "        vertical-align: top;\n",
       "    }\n",
       "\n",
       "    .dataframe thead th {\n",
       "        text-align: right;\n",
       "    }\n",
       "</style>\n",
       "<table border=\"1\" class=\"dataframe\">\n",
       "  <thead>\n",
       "    <tr style=\"text-align: right;\">\n",
       "      <th></th>\n",
       "      <th>id_municipio</th>\n",
       "      <th>nome</th>\n",
       "      <th>qtde_nascimentos_ate_2010</th>\n",
       "      <th>municipio</th>\n",
       "      <th>capital_estado</th>\n",
       "      <th>estado</th>\n",
       "      <th>regiao</th>\n",
       "      <th>ano</th>\n",
       "      <th>populacao</th>\n",
       "    </tr>\n",
       "  </thead>\n",
       "  <tbody>\n",
       "    <tr>\n",
       "      <th>0</th>\n",
       "      <td>1100015</td>\n",
       "      <td>Luzia</td>\n",
       "      <td>46</td>\n",
       "      <td>Alta Floresta D'Oeste</td>\n",
       "      <td>0</td>\n",
       "      <td>Rondônia</td>\n",
       "      <td>Norte</td>\n",
       "      <td>2010</td>\n",
       "      <td>24392</td>\n",
       "    </tr>\n",
       "    <tr>\n",
       "      <th>1</th>\n",
       "      <td>1100015</td>\n",
       "      <td>Edson</td>\n",
       "      <td>46</td>\n",
       "      <td>Alta Floresta D'Oeste</td>\n",
       "      <td>0</td>\n",
       "      <td>Rondônia</td>\n",
       "      <td>Norte</td>\n",
       "      <td>2010</td>\n",
       "      <td>24392</td>\n",
       "    </tr>\n",
       "    <tr>\n",
       "      <th>2</th>\n",
       "      <td>1100015</td>\n",
       "      <td>Julia</td>\n",
       "      <td>46</td>\n",
       "      <td>Alta Floresta D'Oeste</td>\n",
       "      <td>0</td>\n",
       "      <td>Rondônia</td>\n",
       "      <td>Norte</td>\n",
       "      <td>2010</td>\n",
       "      <td>24392</td>\n",
       "    </tr>\n",
       "    <tr>\n",
       "      <th>3</th>\n",
       "      <td>1100015</td>\n",
       "      <td>Ademir</td>\n",
       "      <td>46</td>\n",
       "      <td>Alta Floresta D'Oeste</td>\n",
       "      <td>0</td>\n",
       "      <td>Rondônia</td>\n",
       "      <td>Norte</td>\n",
       "      <td>2010</td>\n",
       "      <td>24392</td>\n",
       "    </tr>\n",
       "    <tr>\n",
       "      <th>4</th>\n",
       "      <td>1100015</td>\n",
       "      <td>Marcio</td>\n",
       "      <td>46</td>\n",
       "      <td>Alta Floresta D'Oeste</td>\n",
       "      <td>0</td>\n",
       "      <td>Rondônia</td>\n",
       "      <td>Norte</td>\n",
       "      <td>2010</td>\n",
       "      <td>24392</td>\n",
       "    </tr>\n",
       "  </tbody>\n",
       "</table>\n",
       "</div>"
      ],
      "text/plain": [
       "  id_municipio    nome  qtde_nascimentos_ate_2010              municipio  \\\n",
       "0      1100015   Luzia                         46  Alta Floresta D'Oeste   \n",
       "1      1100015   Edson                         46  Alta Floresta D'Oeste   \n",
       "2      1100015   Julia                         46  Alta Floresta D'Oeste   \n",
       "3      1100015  Ademir                         46  Alta Floresta D'Oeste   \n",
       "4      1100015  Marcio                         46  Alta Floresta D'Oeste   \n",
       "\n",
       "  capital_estado    estado regiao   ano populacao  \n",
       "0              0  Rondônia  Norte  2010     24392  \n",
       "1              0  Rondônia  Norte  2010     24392  \n",
       "2              0  Rondônia  Norte  2010     24392  \n",
       "3              0  Rondônia  Norte  2010     24392  \n",
       "4              0  Rondônia  Norte  2010     24392  "
      ]
     },
     "execution_count": 61,
     "metadata": {},
     "output_type": "execute_result"
    }
   ],
   "source": [
    "df.sort(col(\"qtde_nascimentos_ate_2010\").asc()).limit(5).toPandas()"
   ]
  },
  {
   "cell_type": "code",
   "execution_count": 62,
   "metadata": {
    "scrolled": true
   },
   "outputs": [
    {
     "data": {
      "text/html": [
       "<div>\n",
       "<style scoped>\n",
       "    .dataframe tbody tr th:only-of-type {\n",
       "        vertical-align: middle;\n",
       "    }\n",
       "\n",
       "    .dataframe tbody tr th {\n",
       "        vertical-align: top;\n",
       "    }\n",
       "\n",
       "    .dataframe thead th {\n",
       "        text-align: right;\n",
       "    }\n",
       "</style>\n",
       "<table border=\"1\" class=\"dataframe\">\n",
       "  <thead>\n",
       "    <tr style=\"text-align: right;\">\n",
       "      <th></th>\n",
       "      <th>nome</th>\n",
       "      <th>count_id_municipio</th>\n",
       "    </tr>\n",
       "  </thead>\n",
       "  <tbody>\n",
       "    <tr>\n",
       "      <th>0</th>\n",
       "      <td>Uilian</td>\n",
       "      <td>1</td>\n",
       "    </tr>\n",
       "    <tr>\n",
       "      <th>1</th>\n",
       "      <td>Abner</td>\n",
       "      <td>1</td>\n",
       "    </tr>\n",
       "    <tr>\n",
       "      <th>2</th>\n",
       "      <td>Diomar</td>\n",
       "      <td>1</td>\n",
       "    </tr>\n",
       "    <tr>\n",
       "      <th>3</th>\n",
       "      <td>Eliude</td>\n",
       "      <td>1</td>\n",
       "    </tr>\n",
       "    <tr>\n",
       "      <th>4</th>\n",
       "      <td>Francileide</td>\n",
       "      <td>1</td>\n",
       "    </tr>\n",
       "  </tbody>\n",
       "</table>\n",
       "</div>"
      ],
      "text/plain": [
       "          nome  count_id_municipio\n",
       "0       Uilian                   1\n",
       "1        Abner                   1\n",
       "2       Diomar                   1\n",
       "3       Eliude                   1\n",
       "4  Francileide                   1"
      ]
     },
     "execution_count": 62,
     "metadata": {},
     "output_type": "execute_result"
    }
   ],
   "source": [
    "(df.select(\"nome\", \"id_municipio\", \"municipio\")\n",
    "  .groupby(\"nome\")\n",
    "  .agg( count(\"id_municipio\")\n",
    "        .alias(\"count_id_municipio\"))\n",
    "  .where(col(\"count_id_municipio\") == 1)\n",
    "  .limit(5).toPandas())"
   ]
  },
  {
   "cell_type": "code",
   "execution_count": 63,
   "metadata": {},
   "outputs": [
    {
     "data": {
      "text/html": [
       "<div>\n",
       "<style scoped>\n",
       "    .dataframe tbody tr th:only-of-type {\n",
       "        vertical-align: middle;\n",
       "    }\n",
       "\n",
       "    .dataframe tbody tr th {\n",
       "        vertical-align: top;\n",
       "    }\n",
       "\n",
       "    .dataframe thead th {\n",
       "        text-align: right;\n",
       "    }\n",
       "</style>\n",
       "<table border=\"1\" class=\"dataframe\">\n",
       "  <thead>\n",
       "    <tr style=\"text-align: right;\">\n",
       "      <th></th>\n",
       "      <th>id_municipio</th>\n",
       "      <th>nome</th>\n",
       "      <th>qtde_nascimentos_ate_2010</th>\n",
       "      <th>municipio</th>\n",
       "      <th>capital_estado</th>\n",
       "      <th>estado</th>\n",
       "      <th>regiao</th>\n",
       "      <th>ano</th>\n",
       "      <th>populacao</th>\n",
       "    </tr>\n",
       "  </thead>\n",
       "  <tbody>\n",
       "    <tr>\n",
       "      <th>0</th>\n",
       "      <td>1302603</td>\n",
       "      <td>Abner</td>\n",
       "      <td>97</td>\n",
       "      <td>Manaus</td>\n",
       "      <td>1</td>\n",
       "      <td>Amazonas</td>\n",
       "      <td>Norte</td>\n",
       "      <td>None</td>\n",
       "      <td>None</td>\n",
       "    </tr>\n",
       "  </tbody>\n",
       "</table>\n",
       "</div>"
      ],
      "text/plain": [
       "  id_municipio   nome  qtde_nascimentos_ate_2010 municipio capital_estado  \\\n",
       "0      1302603  Abner                         97    Manaus              1   \n",
       "\n",
       "     estado regiao   ano populacao  \n",
       "0  Amazonas  Norte  None      None  "
      ]
     },
     "execution_count": 63,
     "metadata": {},
     "output_type": "execute_result"
    }
   ],
   "source": [
    "df.where(col(\"nome\")==\"Abner\").limit(5).toPandas()"
   ]
  },
  {
   "cell_type": "code",
   "execution_count": null,
   "metadata": {},
   "outputs": [],
   "source": [
    "#qual nome tem a maior variancia?"
   ]
  },
  {
   "cell_type": "code",
   "execution_count": 64,
   "metadata": {},
   "outputs": [
    {
     "data": {
      "text/html": [
       "<div>\n",
       "<style scoped>\n",
       "    .dataframe tbody tr th:only-of-type {\n",
       "        vertical-align: middle;\n",
       "    }\n",
       "\n",
       "    .dataframe tbody tr th {\n",
       "        vertical-align: top;\n",
       "    }\n",
       "\n",
       "    .dataframe thead th {\n",
       "        text-align: right;\n",
       "    }\n",
       "</style>\n",
       "<table border=\"1\" class=\"dataframe\">\n",
       "  <thead>\n",
       "    <tr style=\"text-align: right;\">\n",
       "      <th></th>\n",
       "      <th>id_municipio</th>\n",
       "      <th>ano</th>\n",
       "      <th>populacao</th>\n",
       "      <th>populacao_anterior</th>\n",
       "      <th>media_populacao_5_anos</th>\n",
       "    </tr>\n",
       "  </thead>\n",
       "  <tbody>\n",
       "    <tr>\n",
       "      <th>0</th>\n",
       "      <td>1100015</td>\n",
       "      <td>2019</td>\n",
       "      <td>22945</td>\n",
       "      <td>23167</td>\n",
       "      <td>24526.6</td>\n",
       "    </tr>\n",
       "    <tr>\n",
       "      <th>1</th>\n",
       "      <td>1100015</td>\n",
       "      <td>2018</td>\n",
       "      <td>23167</td>\n",
       "      <td>25437</td>\n",
       "      <td>25068.0</td>\n",
       "    </tr>\n",
       "    <tr>\n",
       "      <th>2</th>\n",
       "      <td>1100015</td>\n",
       "      <td>2017</td>\n",
       "      <td>25437</td>\n",
       "      <td>25506</td>\n",
       "      <td>25580.2</td>\n",
       "    </tr>\n",
       "    <tr>\n",
       "      <th>3</th>\n",
       "      <td>1100015</td>\n",
       "      <td>2016</td>\n",
       "      <td>25506</td>\n",
       "      <td>25578</td>\n",
       "      <td>25306.6</td>\n",
       "    </tr>\n",
       "    <tr>\n",
       "      <th>4</th>\n",
       "      <td>1100015</td>\n",
       "      <td>2015</td>\n",
       "      <td>25578</td>\n",
       "      <td>25652</td>\n",
       "      <td>25051.0</td>\n",
       "    </tr>\n",
       "  </tbody>\n",
       "</table>\n",
       "</div>"
      ],
      "text/plain": [
       "  id_municipio   ano populacao populacao_anterior  media_populacao_5_anos\n",
       "0      1100015  2019     22945              23167                 24526.6\n",
       "1      1100015  2018     23167              25437                 25068.0\n",
       "2      1100015  2017     25437              25506                 25580.2\n",
       "3      1100015  2016     25506              25578                 25306.6\n",
       "4      1100015  2015     25578              25652                 25051.0"
      ]
     },
     "execution_count": 64,
     "metadata": {},
     "output_type": "execute_result"
    }
   ],
   "source": [
    "(populacao.withColumn(\"populacao_anterior\",\n",
    "                     lag(col(\"populacao\")) \n",
    "                     .over(Window \n",
    "                           .partitionBy(\"id_municipio\")\n",
    "                           .orderBy(\"ano\")\n",
    "                          ) \n",
    "                     )\n",
    "         .withColumn(\"media_populacao_5_anos\",\n",
    "                     avg(col(\"populacao\"))\n",
    "                     .over(Window\n",
    "                           .partitionBy(\"id_municipio\")\n",
    "                           .rowsBetween(0,4)\n",
    "                           .orderBy(desc(\"ano\"))\n",
    "                          )\n",
    "                    )\n",
    "         .sort(\"id_municipio\",desc(\"ano\"))\n",
    "         .limit(5).toPandas())\n"
   ]
  },
  {
   "cell_type": "code",
   "execution_count": null,
   "metadata": {},
   "outputs": [],
   "source": [
    "def squared(s):\n",
    "    return s + s\n",
    "squared2 = spark.udf.register(\"squaredWithPython\", squared, LongType())\n",
    "df_sp.withColumn(\"square\", squared2(col(\"Confirmed\").cast(IntegerType()))).show()"
   ]
  },
  {
   "cell_type": "code",
   "execution_count": null,
   "metadata": {},
   "outputs": [],
   "source": []
  }
 ],
 "metadata": {
  "kernelspec": {
   "display_name": "Python 3",
   "language": "python",
   "name": "python3"
  },
  "language_info": {
   "codemirror_mode": {
    "name": "ipython",
    "version": 3
   },
   "file_extension": ".py",
   "mimetype": "text/x-python",
   "name": "python",
   "nbconvert_exporter": "python",
   "pygments_lexer": "ipython3",
   "version": "3.7.3"
  }
 },
 "nbformat": 4,
 "nbformat_minor": 2
}
