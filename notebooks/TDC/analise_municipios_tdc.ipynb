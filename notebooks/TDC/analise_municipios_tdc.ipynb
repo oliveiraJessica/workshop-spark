{
 "cells": [
  {
   "cell_type": "markdown",
   "id": "a23812a2",
   "metadata": {
    "slideshow": {
     "slide_type": "slide"
    }
   },
   "source": [
    "![capa](images/capa.png)"
   ]
  },
  {
   "cell_type": "markdown",
   "id": "21bc7638",
   "metadata": {
    "slideshow": {
     "slide_type": "slide"
    }
   },
   "source": [
    "# Tecnologias de Dados - Python\n",
    "![tecnologias_python](images/tecnologias_python.png)"
   ]
  },
  {
   "cell_type": "markdown",
   "id": "7b2b1d73",
   "metadata": {
    "slideshow": {
     "slide_type": "slide"
    }
   },
   "source": [
    "# Processamento paralelo e distribuído\n",
    "\n",
    "\n",
    "![paralelo_distribuido](images/paralelo_distribuido.png)\n",
    "\n",
    "- **Processamento paralelo**: Vários processadores executam tarefas de forma simultânea. Memória pode ser compartilhada ou distribuída.\n",
    "\n",
    "- **Processamento distribuído**: Vários computadores autônomos. Nesse tipo de processamento, a memória não é compartilhada e a comunicação entre computadores acontece por meio de mensagem. Um única aplicação é distribuída entre os computadores."
   ]
  },
  {
   "cell_type": "markdown",
   "id": "ed6d3e27",
   "metadata": {
    "slideshow": {
     "slide_type": "subslide"
    }
   },
   "source": [
    "# Spark\n",
    "<br/>\n",
    "Motor de computação e bibliotecas para processamento paralelo de dados em cluster de computadores\n",
    "\n",
    "Utiliza processamento distribuido para atingir performance, **particionando** os dados e alocando eles em memória distribuidos entre os nós.\n",
    "\n",
    "\n",
    "> <span style=\"color:#089C45;  font-size:1.5em;\"> Resumidamente <b>Spark</b> é uma ferramenta para <b>coordenar e gerenciar</b> execução de tarefas <b>paralelamente de forma distribuída</b> em um cluster de computadores.\n",
    "</span>"
   ]
  },
  {
   "cell_type": "markdown",
   "id": "ce2dd561",
   "metadata": {
    "slideshow": {
     "slide_type": "slide"
    }
   },
   "source": [
    "## Arquitetura Spark\n",
    "\n",
    "\n",
    "### Componentes\n",
    "Os componentes macro de uma aplicação spark são:\n",
    "\n",
    "- **Driver**\n",
    "    - Processo no Mater Node\n",
    "    - Traduz o código em Spark jobs\n",
    "    - Cria o Spark Context\n",
    "    - Não faz computações\n",
    "- **Executors** \n",
    "    - Processo no Worker Node\n",
    "    - Responsável por executar as tasks no Worker Node\n",
    "- **Spark Context**\n",
    "    - Criado pelo Spark Session, junto com o Spark Config\n",
    "    - Utilizado para ciar RDDs\n",
    "    - Envia as tasks para os executores computarem\n",
    "    - Faz checagem dos executores de tempos em tempos\n",
    "- **Cluster Resource Manager**\n",
    "    - Controla e reserva recursos no cluster\n",
    "    - Ex.: Mesos, **YARN**\n",
    "\n",
    "![arquitetura_spark](images/arquitetura_spark.png)\n",
    "\n",
    "### Particionamento\n",
    "\n",
    "\n",
    "> <span style=\"color:#089C45;  font-size:1.2em;\"> Particionamento é a principal <b>unidade de paralelismo</b> no Apache Spark.\n",
    "</span>\n",
    "\n",
    "Cada partição é enviada para workers:\n",
    " \n",
    "![particoes](images/particoes.png)\n",
    "\n",
    "----\n",
    "Referência: https://luminousmen.com/post/spark-anatomy-of-spark-application <br>\n",
    "Comparação map reduce e spark: https://www.infoq.com/br/articles/mapreduce-vs-spark/"
   ]
  },
  {
   "cell_type": "code",
   "execution_count": 9,
   "id": "89046df0",
   "metadata": {},
   "outputs": [],
   "source": [
    "from pyspark.sql.functions import *\n",
    "from pyspark.sql import SparkSession\n",
    "from pyspark.sql.types import IntegerType"
   ]
  },
  {
   "cell_type": "code",
   "execution_count": 10,
   "id": "4c1c6ae2",
   "metadata": {},
   "outputs": [],
   "source": [
    "spark = (SparkSession.builder \n",
    "        .master(\"local[*]\") \n",
    "        .appName(\"workshop_spark\")\n",
    "        .getOrCreate())"
   ]
  },
  {
   "cell_type": "code",
   "execution_count": 11,
   "id": "15184778",
   "metadata": {
    "scrolled": true
   },
   "outputs": [
    {
     "data": {
      "text/html": [
       "\n",
       "            <div>\n",
       "                <p><b>SparkSession - in-memory</b></p>\n",
       "                \n",
       "        <div>\n",
       "            <p><b>SparkContext</b></p>\n",
       "\n",
       "            <p><a href=\"http://410b89848bf3:4040\">Spark UI</a></p>\n",
       "\n",
       "            <dl>\n",
       "              <dt>Version</dt>\n",
       "                <dd><code>v3.1.1</code></dd>\n",
       "              <dt>Master</dt>\n",
       "                <dd><code>local[*]</code></dd>\n",
       "              <dt>AppName</dt>\n",
       "                <dd><code>workshop_spark</code></dd>\n",
       "            </dl>\n",
       "        </div>\n",
       "        \n",
       "            </div>\n",
       "        "
      ],
      "text/plain": [
       "<pyspark.sql.session.SparkSession at 0x7fa9fb053c40>"
      ]
     },
     "execution_count": 11,
     "metadata": {},
     "output_type": "execute_result"
    }
   ],
   "source": [
    "spark"
   ]
  },
  {
   "cell_type": "markdown",
   "id": "1a589c3e",
   "metadata": {},
   "source": [
    "# Spark UI\n",
    "\n",
    "Monitoramento da aplicação Spark, funciona através de lisseners.\n",
    "\n",
    "Visualização detalhada da execução, com DAGs, timeline, jobs, stages e tasks. Pode ser utilizado para análise de cluster e performance.\n",
    "\n",
    "Inicialmente _Event Timeline_ está vazio, já que não rodamos nenhum job nessa Session\n",
    "\n",
    "![Spark UI](images/spark_ui.png)"
   ]
  },
  {
   "cell_type": "markdown",
   "id": "674be46c",
   "metadata": {},
   "source": [
    "## DataFrames\n",
    "\n",
    "Abstração do **RDDs** (Resilient Distributes Datasets), representando um coleção de dados organizados por colunas nomeadas. Conceitualmente equivalente a um tabela, em bancos de dados relacionais. \n",
    "\n",
    "São **imutáveis**, significando que a cada operação é criado um novo DataFrame."
   ]
  },
  {
   "cell_type": "markdown",
   "id": "3bdd2214",
   "metadata": {},
   "source": [
    "> Dados abertos disponíveis na paltaforma [base dos dados mais](https://basedosdados.github.io/mais/)"
   ]
  },
  {
   "cell_type": "code",
   "execution_count": 12,
   "id": "bee86d23",
   "metadata": {
    "scrolled": true
   },
   "outputs": [
    {
     "name": "stdout",
     "output_type": "stream",
     "text": [
      "5570\n"
     ]
    },
    {
     "data": {
      "text/plain": [
       "['id_municipio',\n",
       " 'id_municipio_6',\n",
       " 'id_municipio_TSE',\n",
       " 'id_municipio_RF',\n",
       " 'id_municipio_BCB',\n",
       " 'municipio',\n",
       " 'capital_estado',\n",
       " 'id_comarca',\n",
       " 'id_regiao_saude',\n",
       " 'regiao_saude',\n",
       " 'id_regiao_imediata',\n",
       " 'regiao_imediata',\n",
       " 'id_regiao_intermediaria',\n",
       " 'regiao_intermediaria',\n",
       " 'id_microrregiao',\n",
       " 'microrregiao',\n",
       " 'id_mesorregiao',\n",
       " 'mesorregiao',\n",
       " 'id_estado',\n",
       " 'estado_abrev',\n",
       " 'estado',\n",
       " 'regiao',\n",
       " 'existia_1991',\n",
       " 'existia_2000',\n",
       " 'existia_2010']"
      ]
     },
     "execution_count": 12,
     "metadata": {},
     "output_type": "execute_result"
    }
   ],
   "source": [
    "municipios = spark.read.option(\"header\", True).csv(\"../../data/municipios.csv\") #Job 0\n",
    "print(municipios.count()) #Job 1\n",
    "municipios.columns"
   ]
  },
  {
   "cell_type": "code",
   "execution_count": 13,
   "id": "67c66839",
   "metadata": {},
   "outputs": [
    {
     "data": {
      "text/html": [
       "<div>\n",
       "<style scoped>\n",
       "    .dataframe tbody tr th:only-of-type {\n",
       "        vertical-align: middle;\n",
       "    }\n",
       "\n",
       "    .dataframe tbody tr th {\n",
       "        vertical-align: top;\n",
       "    }\n",
       "\n",
       "    .dataframe thead th {\n",
       "        text-align: right;\n",
       "    }\n",
       "</style>\n",
       "<table border=\"1\" class=\"dataframe\">\n",
       "  <thead>\n",
       "    <tr style=\"text-align: right;\">\n",
       "      <th></th>\n",
       "      <th>id_municipio</th>\n",
       "      <th>ano</th>\n",
       "      <th>populacao</th>\n",
       "    </tr>\n",
       "  </thead>\n",
       "  <tbody>\n",
       "    <tr>\n",
       "      <th>0</th>\n",
       "      <td>1100015</td>\n",
       "      <td>1991</td>\n",
       "      <td>31981</td>\n",
       "    </tr>\n",
       "    <tr>\n",
       "      <th>1</th>\n",
       "      <td>1100015</td>\n",
       "      <td>1992</td>\n",
       "      <td>34768</td>\n",
       "    </tr>\n",
       "    <tr>\n",
       "      <th>2</th>\n",
       "      <td>1100015</td>\n",
       "      <td>1993</td>\n",
       "      <td>37036</td>\n",
       "    </tr>\n",
       "  </tbody>\n",
       "</table>\n",
       "</div>"
      ],
      "text/plain": [
       "  id_municipio   ano populacao\n",
       "0      1100015  1991     31981\n",
       "1      1100015  1992     34768\n",
       "2      1100015  1993     37036"
      ]
     },
     "execution_count": 13,
     "metadata": {},
     "output_type": "execute_result"
    }
   ],
   "source": [
    "populacao = spark.read.option(\"header\", True).csv(\"../../data/populacao_municipios.csv\") #Job 2\n",
    "populacao.limit(3).toPandas() #Job 3"
   ]
  },
  {
   "cell_type": "code",
   "execution_count": 14,
   "id": "2b37079c",
   "metadata": {
    "scrolled": true
   },
   "outputs": [
    {
     "name": "stdout",
     "output_type": "stream",
     "text": [
      "[('id_municipio', 'string'), ('nome', 'string'), ('qtde_nascimentos_ate_2010', 'string')]\n",
      "+-------+-----------------+------+-------------------------+\n",
      "|summary|     id_municipio|  nome|qtde_nascimentos_ate_2010|\n",
      "+-------+-----------------+------+-------------------------+\n",
      "|  count|            16000| 16000|                    16000|\n",
      "|   mean|   1275691.432125|  null|                237.01825|\n",
      "| stddev|133120.7010056176|  null|       1061.9399168814268|\n",
      "|    min|          1100015|Abdias|                      100|\n",
      "|    max|          1500800|Zumira|                      998|\n",
      "+-------+-----------------+------+-------------------------+\n",
      "\n"
     ]
    }
   ],
   "source": [
    "nomes = spark.read.option(\"header\", True).csv(\"../../data/nomes_municipios.csv\") #Job 4\n",
    "print(nomes.dtypes)\n",
    "# lê tudo como string, por default\n",
    "nomes.describe().show() #Job 5"
   ]
  },
  {
   "cell_type": "code",
   "execution_count": 16,
   "id": "7bb23baa",
   "metadata": {},
   "outputs": [],
   "source": [
    "populacao_f = populacao.where(col(\"ano\") == 2010) # alias do filter\n",
    "\n",
    "municipios_f = (municipios\n",
    "                .select(\"id_municipio\", \"municipio\", \"capital_estado\", \"estado\", \"regiao\"))\n",
    "\n",
    "nomes = nomes.withColumn(\"qtde_nascimentos_ate_2010\", nomes[\"qtde_nascimentos_ate_2010\"].cast(IntegerType()))"
   ]
  },
  {
   "cell_type": "markdown",
   "id": "7590f967",
   "metadata": {},
   "source": [
    "Depois dessa execução, cada leitura de arquivo e print dos dados inicia um job, todos concluídos com sucesso. Porém a filtragem e seleção nos dataframes não gera nenhum outro job.\n",
    "\n",
    "Detalhe da execução da leitura dos 3 arquivos, na interface de jobs, no Spark UI:\n",
    "\n",
    "![jobs1](images/jobs1.png)\n"
   ]
  },
  {
   "cell_type": "markdown",
   "id": "8c027a3d",
   "metadata": {},
   "source": [
    "# Plano de Execução\n",
    "\n",
    "> <span style=\"color:#089C45;  font-size:1.2em;\"> O <b>plano de execução</b> representa o lineage dos dados e permite que Spark seja tolerante a falhas, conseguindo recuperar dados em caso de perda de nós.\n",
    "</span>\n",
    "\n",
    "Cada DataFrame possui um plano de execução associado a ele.\n",
    "\n",
    "### Transformação\n",
    "Operações de transformação criam um novo DataFrame a partir de um Dataframe base.\n",
    "\n",
    "São chamadas _lazy_ por não ser executadas naquele momento, e são adicionadas ao plano de ação.\n",
    "\n",
    "Tipos de transformações: <br>\n",
    "- **Narrow**: Não precisam de dados de outras partições. Ex.: map\n",
    "- **wide**: Precisam de _shuffle_ (ler dados de outras partições) e criam um outro stage. Ex.: groupby, join \n",
    "\n",
    "### Ação\n",
    "Operações que precisam avaliar o dataframe como um todo. Ex.: show, count, write. <br>\n",
    "Quando a ação é executada, spark executa o plano de execução.\n",
    "\n",
    "----\n",
    "Artigo \"Plano de execução para leigos\": https://ichi.pro/pt/planos-de-consulta-do-spark-para-leigos-122282881757510"
   ]
  },
  {
   "cell_type": "code",
   "execution_count": 17,
   "id": "4737fbf5",
   "metadata": {},
   "outputs": [
    {
     "name": "stdout",
     "output_type": "stream",
     "text": [
      "+------------+----+---------+\n",
      "|id_municipio| ano|populacao|\n",
      "+------------+----+---------+\n",
      "|     1100015|2010|    24392|\n",
      "|     1100023|2010|    90353|\n",
      "+------------+----+---------+\n",
      "only showing top 2 rows\n",
      "\n"
     ]
    }
   ],
   "source": [
    "populacao_f.show(2)  #Job 6"
   ]
  },
  {
   "cell_type": "markdown",
   "id": "c5e3ae15",
   "metadata": {},
   "source": [
    "Com a operação de show (ação!) o job 3 é criado\n",
    "![jobs2](images/jobs2.png)"
   ]
  },
  {
   "cell_type": "code",
   "execution_count": 10,
   "id": "479d4e42",
   "metadata": {},
   "outputs": [
    {
     "name": "stdout",
     "output_type": "stream",
     "text": [
      "== Physical Plan ==\n",
      "*(1) Filter (isnotnull(ano#113) AND (cast(ano#113 as int) = 2010))\n",
      "+- FileScan csv [id_municipio#112,ano#113,populacao#114] Batched: false, DataFilters: [isnotnull(ano#113), (cast(ano#113 as int) = 2010)], Format: CSV, Location: InMemoryFileIndex[file:/opt/dna-spark/data/populacao_municipios.csv], PartitionFilters: [], PushedFilters: [IsNotNull(ano)], ReadSchema: struct<id_municipio:string,ano:string,populacao:string>\n",
      "\n",
      "\n"
     ]
    }
   ],
   "source": [
    "populacao_f.explain()"
   ]
  },
  {
   "cell_type": "markdown",
   "id": "9acfad48",
   "metadata": {},
   "source": [
    "### Divisões da Aplicação\n",
    "\n",
    "> <span style=\"color:#089C45;  font-size:1.2em;\"> Uma vez que o plano de execução é montado, o <b>Driver</b>, no momento de execução, faz as <b>DAGs</b> e a partir disso, divide em <b>stages</b> e <b>tasks</b>.\n",
    "</span>\n",
    "\n",
    "- DAGs (Direct Acyclic Graph): Grafo que representa a **sequencia de operações aplicadas a um RDD**. Alternativo ao map reduce, mais optimizado.\n",
    "- Jobs: Conjunto de Stages, **inicializados por uma ação** realizada num RDD.\n",
    "- Stage: Conjunto de operações que executam em várias partições, **inicializado por uma transformação wide**.\n",
    "- Tasks: Operação única aplicada a uma única **partição** de dados.\n",
    "\n",
    "![divisão aplicacao](images/divisao_aplicacao.png)\n",
    "\n",
    "Referência: https://medium.com/expedia-group-tech/part-5-how-to-resolve-common-errors-when-switching-to-cost-efficient-apache-spark-executor-36e8d4290536 <br>\n",
    "Stage em detalhes: https://towardsdatascience.com/unraveling-the-staged-execution-in-apache-spark-eff98c4cdac9"
   ]
  },
  {
   "cell_type": "markdown",
   "id": "706dc0e9",
   "metadata": {},
   "source": [
    "## Join"
   ]
  },
  {
   "cell_type": "code",
   "execution_count": 11,
   "id": "06aa081e",
   "metadata": {},
   "outputs": [],
   "source": [
    "df = (nomes.join(municipios_f, \"id_municipio\", how=\"left\")\n",
    "           .join(populacao_f, \"id_municipio\", how=\"left\"))"
   ]
  },
  {
   "cell_type": "code",
   "execution_count": 12,
   "id": "e1c22ca0",
   "metadata": {},
   "outputs": [
    {
     "data": {
      "text/html": [
       "<div>\n",
       "<style scoped>\n",
       "    .dataframe tbody tr th:only-of-type {\n",
       "        vertical-align: middle;\n",
       "    }\n",
       "\n",
       "    .dataframe tbody tr th {\n",
       "        vertical-align: top;\n",
       "    }\n",
       "\n",
       "    .dataframe thead th {\n",
       "        text-align: right;\n",
       "    }\n",
       "</style>\n",
       "<table border=\"1\" class=\"dataframe\">\n",
       "  <thead>\n",
       "    <tr style=\"text-align: right;\">\n",
       "      <th></th>\n",
       "      <th>id_municipio</th>\n",
       "      <th>nome</th>\n",
       "      <th>qtde_nascimentos_ate_2010</th>\n",
       "      <th>municipio</th>\n",
       "      <th>capital_estado</th>\n",
       "      <th>estado</th>\n",
       "      <th>regiao</th>\n",
       "      <th>ano</th>\n",
       "      <th>populacao</th>\n",
       "    </tr>\n",
       "  </thead>\n",
       "  <tbody>\n",
       "    <tr>\n",
       "      <th>0</th>\n",
       "      <td>1100015</td>\n",
       "      <td>Ademir</td>\n",
       "      <td>46</td>\n",
       "      <td>Alta Floresta D'Oeste</td>\n",
       "      <td>0</td>\n",
       "      <td>Rondônia</td>\n",
       "      <td>Norte</td>\n",
       "      <td>2010</td>\n",
       "      <td>24392</td>\n",
       "    </tr>\n",
       "    <tr>\n",
       "      <th>1</th>\n",
       "      <td>1100015</td>\n",
       "      <td>Adriana</td>\n",
       "      <td>60</td>\n",
       "      <td>Alta Floresta D'Oeste</td>\n",
       "      <td>0</td>\n",
       "      <td>Rondônia</td>\n",
       "      <td>Norte</td>\n",
       "      <td>2010</td>\n",
       "      <td>24392</td>\n",
       "    </tr>\n",
       "    <tr>\n",
       "      <th>2</th>\n",
       "      <td>1100015</td>\n",
       "      <td>Aline</td>\n",
       "      <td>77</td>\n",
       "      <td>Alta Floresta D'Oeste</td>\n",
       "      <td>0</td>\n",
       "      <td>Rondônia</td>\n",
       "      <td>Norte</td>\n",
       "      <td>2010</td>\n",
       "      <td>24392</td>\n",
       "    </tr>\n",
       "    <tr>\n",
       "      <th>3</th>\n",
       "      <td>1100015</td>\n",
       "      <td>Amanda</td>\n",
       "      <td>51</td>\n",
       "      <td>Alta Floresta D'Oeste</td>\n",
       "      <td>0</td>\n",
       "      <td>Rondônia</td>\n",
       "      <td>Norte</td>\n",
       "      <td>2010</td>\n",
       "      <td>24392</td>\n",
       "    </tr>\n",
       "    <tr>\n",
       "      <th>4</th>\n",
       "      <td>1100015</td>\n",
       "      <td>Ana</td>\n",
       "      <td>300</td>\n",
       "      <td>Alta Floresta D'Oeste</td>\n",
       "      <td>0</td>\n",
       "      <td>Rondônia</td>\n",
       "      <td>Norte</td>\n",
       "      <td>2010</td>\n",
       "      <td>24392</td>\n",
       "    </tr>\n",
       "  </tbody>\n",
       "</table>\n",
       "</div>"
      ],
      "text/plain": [
       "  id_municipio     nome  qtde_nascimentos_ate_2010              municipio  \\\n",
       "0      1100015   Ademir                         46  Alta Floresta D'Oeste   \n",
       "1      1100015  Adriana                         60  Alta Floresta D'Oeste   \n",
       "2      1100015    Aline                         77  Alta Floresta D'Oeste   \n",
       "3      1100015   Amanda                         51  Alta Floresta D'Oeste   \n",
       "4      1100015      Ana                        300  Alta Floresta D'Oeste   \n",
       "\n",
       "  capital_estado    estado regiao   ano populacao  \n",
       "0              0  Rondônia  Norte  2010     24392  \n",
       "1              0  Rondônia  Norte  2010     24392  \n",
       "2              0  Rondônia  Norte  2010     24392  \n",
       "3              0  Rondônia  Norte  2010     24392  \n",
       "4              0  Rondônia  Norte  2010     24392  "
      ]
     },
     "execution_count": 12,
     "metadata": {},
     "output_type": "execute_result"
    }
   ],
   "source": [
    "df.limit(5).toPandas() # Job 7, Job 8, Job 9"
   ]
  },
  {
   "cell_type": "markdown",
   "id": "e9367118",
   "metadata": {},
   "source": [
    "## Broadcast\n",
    "Broadcast é uma função _lazy_ e faz com que os valores sejam salvos em memória (se não tiver memporia suficiente, vai pro disco), para todos os executores que irão precisar desses dados.\n",
    "\n",
    "A transimissão é feita através do `SparkContext`.\n",
    "\n",
    "Pode ser utilizado para joins entre tabelas grandes com tabelas relativamente pequenas.\n",
    "\n",
    "Essa estratégia de join já é utilizada automaticamente quando o tamanho de uma das tabelas fica abaixo da configuração `spark.sql.autoBroadcastJoinThreshold`.\n",
    "\n",
    "\n",
    "![broadcast](images/broadcast.png)\n",
    "\n",
    "---\n",
    "Exemplos: https://jaceklaskowski.gitbooks.io/mastering-spark-sql/content/spark-sql-joins-broadcast.html <br>\n",
    "Hint: https://jaceklaskowski.gitbooks.io/mastering-spark-sql/content/spark-sql-hint-framework.html"
   ]
  },
  {
   "cell_type": "code",
   "execution_count": 10,
   "id": "9da4c672",
   "metadata": {},
   "outputs": [
    {
     "name": "stdout",
     "output_type": "stream",
     "text": [
      "== Physical Plan ==\n",
      "*(3) Project [id_municipio#104, nome#105, qtde_nascimentos_ate_2010#115, municipio#21, capital_estado#22, estado#36, regiao#37, ano#83, populacao#84]\n",
      "+- *(3) BroadcastHashJoin [id_municipio#104], [id_municipio#82], LeftOuter, BuildRight, false\n",
      "   :- *(3) Project [id_municipio#104, nome#105, qtde_nascimentos_ate_2010#115, municipio#21, capital_estado#22, estado#36, regiao#37]\n",
      "   :  +- *(3) BroadcastHashJoin [id_municipio#104], [id_municipio#16], LeftOuter, BuildRight, false\n",
      "   :     :- *(3) Project [id_municipio#104, nome#105, cast(qtde_nascimentos_ate_2010#106 as int) AS qtde_nascimentos_ate_2010#115]\n",
      "   :     :  +- FileScan csv [id_municipio#104,nome#105,qtde_nascimentos_ate_2010#106] Batched: false, DataFilters: [], Format: CSV, Location: InMemoryFileIndex[file:/opt/dna-spark/data/nomes_municipios.csv], PartitionFilters: [], PushedFilters: [], ReadSchema: struct<id_municipio:string,nome:string,qtde_nascimentos_ate_2010:string>\n",
      "   :     +- BroadcastExchange HashedRelationBroadcastMode(List(input[0, string, false]),false), [id=#206]\n",
      "   :        +- *(1) Filter isnotnull(id_municipio#16)\n",
      "   :           +- FileScan csv [id_municipio#16,municipio#21,capital_estado#22,estado#36,regiao#37] Batched: false, DataFilters: [isnotnull(id_municipio#16)], Format: CSV, Location: InMemoryFileIndex[file:/opt/dna-spark/data/municipios.csv], PartitionFilters: [], PushedFilters: [IsNotNull(id_municipio)], ReadSchema: struct<id_municipio:string,municipio:string,capital_estado:string,estado:string,regiao:string>\n",
      "   +- BroadcastExchange HashedRelationBroadcastMode(List(input[0, string, false]),false), [id=#213]\n",
      "      +- *(2) Filter ((isnotnull(ano#83) AND (cast(ano#83 as int) = 2010)) AND isnotnull(id_municipio#82))\n",
      "         +- FileScan csv [id_municipio#82,ano#83,populacao#84] Batched: false, DataFilters: [isnotnull(ano#83), (cast(ano#83 as int) = 2010), isnotnull(id_municipio#82)], Format: CSV, Location: InMemoryFileIndex[file:/opt/dna-spark/data/populacao_municipios.csv], PartitionFilters: [], PushedFilters: [IsNotNull(ano), IsNotNull(id_municipio)], ReadSchema: struct<id_municipio:string,ano:string,populacao:string>\n",
      "\n",
      "\n"
     ]
    }
   ],
   "source": [
    "df.explain()"
   ]
  },
  {
   "cell_type": "code",
   "execution_count": 11,
   "id": "8143fc15",
   "metadata": {},
   "outputs": [],
   "source": [
    "# Pode ser especificado de duas formas\n",
    "df_b = nomes.join(broadcast(municipios_f), \"id_municipio\", how=\"left\")\n",
    "df_b = nomes.join(municipios_f.hint(\"broadcast\"), \"id_municipio\", how=\"left\")"
   ]
  },
  {
   "cell_type": "markdown",
   "id": "ec899684",
   "metadata": {},
   "source": [
    "## Particionamento na prática\n",
    "\n",
    "Por padrão, Spark decide como fazer o particionamento dos dados, mas é possível escolher o número de partições.\n",
    "\n",
    "A importância de particionar bem:\n",
    "- Partição de menos: Não utiliza bem os recursos do cluster\n",
    "- Partições de mais: Introduz overhead no gerenciamento de muitas partições\n",
    "\n",
    "Como fazer?:\n",
    "\n",
    "- coalesce() para diminuir o número de partições.\n",
    "- repartition() para aumentar.\n",
    "\n",
    "Caso de particionamento por chave de negócio (cuidado com data skew)\n",
    "![particionamento_key](images/particionamento_key.png)\n",
    "\n",
    "---\n",
    "Entendendo partições: https://luminousmen.com/post/spark-partitions <br>\n",
    "Entendendo partições2: https://techmagie.wordpress.com/2015/12/19/understanding-spark-partitioning/ <br>\n",
    "Tunning: https://luminousmen.com/post/spark-tips-partition-tuning"
   ]
  },
  {
   "cell_type": "code",
   "execution_count": 12,
   "id": "a36bb930",
   "metadata": {},
   "outputs": [
    {
     "name": "stdout",
     "output_type": "stream",
     "text": [
      "Particionamento padrão: 1\n",
      "Particionamento depois do agrupamento: 170\n"
     ]
    },
    {
     "data": {
      "text/html": [
       "<div>\n",
       "<style scoped>\n",
       "    .dataframe tbody tr th:only-of-type {\n",
       "        vertical-align: middle;\n",
       "    }\n",
       "\n",
       "    .dataframe tbody tr th {\n",
       "        vertical-align: top;\n",
       "    }\n",
       "\n",
       "    .dataframe thead th {\n",
       "        text-align: right;\n",
       "    }\n",
       "</style>\n",
       "<table border=\"1\" class=\"dataframe\">\n",
       "  <thead>\n",
       "    <tr style=\"text-align: right;\">\n",
       "      <th></th>\n",
       "      <th>nome</th>\n",
       "      <th>qtde_nascimentos_ate_2010</th>\n",
       "    </tr>\n",
       "  </thead>\n",
       "  <tbody>\n",
       "    <tr>\n",
       "      <th>0</th>\n",
       "      <td>Maria</td>\n",
       "      <td>385816</td>\n",
       "    </tr>\n",
       "    <tr>\n",
       "      <th>1</th>\n",
       "      <td>Jose</td>\n",
       "      <td>163729</td>\n",
       "    </tr>\n",
       "    <tr>\n",
       "      <th>2</th>\n",
       "      <td>Ana</td>\n",
       "      <td>99245</td>\n",
       "    </tr>\n",
       "    <tr>\n",
       "      <th>3</th>\n",
       "      <td>Antonio</td>\n",
       "      <td>94619</td>\n",
       "    </tr>\n",
       "    <tr>\n",
       "      <th>4</th>\n",
       "      <td>Francisco</td>\n",
       "      <td>93829</td>\n",
       "    </tr>\n",
       "  </tbody>\n",
       "</table>\n",
       "</div>"
      ],
      "text/plain": [
       "        nome  qtde_nascimentos_ate_2010\n",
       "0      Maria                     385816\n",
       "1       Jose                     163729\n",
       "2        Ana                      99245\n",
       "3    Antonio                      94619\n",
       "4  Francisco                      93829"
      ]
     },
     "execution_count": 12,
     "metadata": {},
     "output_type": "execute_result"
    }
   ],
   "source": [
    "print(f'Particionamento padrão: {df.rdd.getNumPartitions()}')\n",
    "\n",
    "# nomes mais comuns\n",
    "df_g = (df.select(\"nome\", \"qtde_nascimentos_ate_2010\")\n",
    "  .groupby(\"nome\")\n",
    "  .agg( sum(\"qtde_nascimentos_ate_2010\")\n",
    "        .alias(\"qtde_nascimentos_ate_2010\"))\n",
    "  .sort(col(\"qtde_nascimentos_ate_2010\").desc())\n",
    "       )\n",
    "\n",
    "print(f'Particionamento depois do agrupamento: {df_g.rdd.getNumPartitions()}')\n",
    "df_g.limit(5).toPandas()"
   ]
  },
  {
   "cell_type": "markdown",
   "id": "b75f0248",
   "metadata": {},
   "source": [
    "Analisando o ultimo stage do job que faz o agrupamento, podemos ver as diversas tasks, uma para cada partição, representadas pelas barras de eventos\n",
    "![particionamento_stage1](images/particionamento_stage1.png)\n",
    "\n",
    "Olhando esse event timeline a gente consegue analisar, por exemplo, se as tasks estão \"esperando\" para serem inicializas (_Scheduler Delay_ em azul), indicando que um aumento no número de nós poderia reduzir tempo de execução dessa task"
   ]
  },
  {
   "cell_type": "code",
   "execution_count": 13,
   "id": "d8b3eab1",
   "metadata": {},
   "outputs": [
    {
     "data": {
      "text/html": [
       "<div>\n",
       "<style scoped>\n",
       "    .dataframe tbody tr th:only-of-type {\n",
       "        vertical-align: middle;\n",
       "    }\n",
       "\n",
       "    .dataframe tbody tr th {\n",
       "        vertical-align: top;\n",
       "    }\n",
       "\n",
       "    .dataframe thead th {\n",
       "        text-align: right;\n",
       "    }\n",
       "</style>\n",
       "<table border=\"1\" class=\"dataframe\">\n",
       "  <thead>\n",
       "    <tr style=\"text-align: right;\">\n",
       "      <th></th>\n",
       "      <th>nome</th>\n",
       "      <th>qtde_nascimentos_ate_2010</th>\n",
       "    </tr>\n",
       "  </thead>\n",
       "  <tbody>\n",
       "    <tr>\n",
       "      <th>0</th>\n",
       "      <td>Maria</td>\n",
       "      <td>385816</td>\n",
       "    </tr>\n",
       "    <tr>\n",
       "      <th>1</th>\n",
       "      <td>Jose</td>\n",
       "      <td>163729</td>\n",
       "    </tr>\n",
       "    <tr>\n",
       "      <th>2</th>\n",
       "      <td>Ana</td>\n",
       "      <td>99245</td>\n",
       "    </tr>\n",
       "    <tr>\n",
       "      <th>3</th>\n",
       "      <td>Antonio</td>\n",
       "      <td>94619</td>\n",
       "    </tr>\n",
       "    <tr>\n",
       "      <th>4</th>\n",
       "      <td>Francisco</td>\n",
       "      <td>93829</td>\n",
       "    </tr>\n",
       "  </tbody>\n",
       "</table>\n",
       "</div>"
      ],
      "text/plain": [
       "        nome  qtde_nascimentos_ate_2010\n",
       "0      Maria                     385816\n",
       "1       Jose                     163729\n",
       "2        Ana                      99245\n",
       "3    Antonio                      94619\n",
       "4  Francisco                      93829"
      ]
     },
     "execution_count": 13,
     "metadata": {},
     "output_type": "execute_result"
    }
   ],
   "source": [
    "# Exemplo com muitas partições\n",
    "repartition_n = df.repartition(400)\n",
    "\n",
    "(repartition_n.select(\"nome\", \"qtde_nascimentos_ate_2010\")\n",
    "  .groupby(\"nome\")\n",
    "  .agg( sum(\"qtde_nascimentos_ate_2010\")\n",
    "        .alias(\"qtde_nascimentos_ate_2010\"))\n",
    "  .sort(col(\"qtde_nascimentos_ate_2010\").desc())\n",
    "  .limit(5).toPandas())\n"
   ]
  },
  {
   "cell_type": "markdown",
   "id": "be845688",
   "metadata": {},
   "source": [
    "Com um número muito grande de partições, o timeline do stage mostra muitas operações de shuffle\n",
    "\n",
    "![particionamento_stage2](images/particionamento_stage2.png)"
   ]
  },
  {
   "attachments": {
    "image-2.png": {
     "image/png": "[encoded data removed]"
    }
   },
   "cell_type": "markdown",
   "id": "b858eeab",
   "metadata": {},
   "source": [
    "Comparando o tempo do Jobs:\n",
    "Job 14 (sem repartition manual) =  1s <br>\n",
    "Job 17 (com repartition de 400) = 5s\n",
    "\n",
    "![image-2.png](attachment:image-2.png)"
   ]
  },
  {
   "cell_type": "markdown",
   "id": "70a7e0f3",
   "metadata": {},
   "source": [
    "## Cache / Persist\n",
    "\n",
    "Quando uma ação termina, todos RDDs usados nas transformações são descartados da memória dos workers. Então, quando um dataframe é utilizado várias vezes, caching/persist pode ser beneficial. Assim o lineage desse dataframe não vai ser proocessados repetidamente.\n",
    "\n",
    "![cache](images/cache.png)\n",
    "\n",
    "Na prática, o dataset fica em memória (ou também em disco) em todos os workers, cada nó persistindo sua partição e reutilizando em ações aplicadas naquele dataset.\n",
    "\n",
    "> **Cache** é equivalente ao método **persist**, com valor MEMORY_AND_DISK como localização.\n",
    "\n",
    "Caching e persist salvam o data lineage, sendo útil caso seja necessário reconstruir os dados da base, caso algum nó do cluster caia (diferente do checkpoint, por exemplo)\n",
    " \n",
    "Exemplo de count em dado com diferentes métodos de cache (fonte: https://towardsdatascience.com/apache-spark-caching-603154173c48): <br>\n",
    "![cache_comp](images/cache_comp.png)\n",
    "\n",
    "----\n",
    "Refrência: https://luminousmen.com/post/explaining-the-mechanics-of-spark-caching <br>\n",
    "Explicação e melhores práticas: https://towardsdatascience.com/best-practices-for-caching-in-spark-sql-b22fb0f02d34\n"
   ]
  },
  {
   "cell_type": "code",
   "execution_count": 14,
   "id": "2acf291a",
   "metadata": {
    "scrolled": true
   },
   "outputs": [],
   "source": [
    "df_m = df.groupby(\"id_municipio\").sum()\n",
    "df_a = df.groupby(\"ano\").sum()"
   ]
  },
  {
   "cell_type": "code",
   "execution_count": 15,
   "id": "b7c9b880",
   "metadata": {
    "scrolled": false
   },
   "outputs": [
    {
     "name": "stdout",
     "output_type": "stream",
     "text": [
      "+------------+------------------------------+\n",
      "|id_municipio|sum(qtde_nascimentos_ate_2010)|\n",
      "+------------+------------------------------+\n",
      "|     1302108|                           976|\n",
      "|     1100114|                         22814|\n",
      "|     1100502|                          1315|\n",
      "|     1300805|                          9612|\n",
      "|     1100403|                          3305|\n",
      "|     1100288|                         23291|\n",
      "|     1304260|                          2009|\n",
      "|     1101500|                          1525|\n",
      "|     1303205|                          2702|\n",
      "|     1300409|                          5270|\n",
      "|     1100189|                         12531|\n",
      "|     1100924|                          1227|\n",
      "|     1302405|                         16928|\n",
      "|     1100049|                         41094|\n",
      "|     1100262|                           345|\n",
      "|     1101708|                          2203|\n",
      "|     1200401|                        221042|\n",
      "|     1301852|                         15026|\n",
      "|     1100379|                          1852|\n",
      "|     1500131|                           979|\n",
      "+------------+------------------------------+\n",
      "only showing top 20 rows\n",
      "\n",
      "+----+------------------------------+\n",
      "| ano|sum(qtde_nascimentos_ate_2010)|\n",
      "+----+------------------------------+\n",
      "|null|                       3111708|\n",
      "|2010|                        680584|\n",
      "+----+------------------------------+\n",
      "\n"
     ]
    }
   ],
   "source": [
    "df_m.show()\n",
    "df_a.show()"
   ]
  },
  {
   "cell_type": "markdown",
   "id": "7e8f1080",
   "metadata": {},
   "source": [
    "Jobs 18-20 e 24-26 são iguais, relativos as transformações para obter `df` <br>\n",
    "![cache_jobs1](images/cache_jobs1.png)"
   ]
  },
  {
   "cell_type": "code",
   "execution_count": 21,
   "id": "789f7ded",
   "metadata": {},
   "outputs": [
    {
     "data": {
      "text/plain": [
       "16000"
      ]
     },
     "execution_count": 21,
     "metadata": {},
     "output_type": "execute_result"
    }
   ],
   "source": [
    "df.cache()\n",
    "df.count()"
   ]
  },
  {
   "cell_type": "markdown",
   "id": "686b75e0",
   "metadata": {},
   "source": [
    "Aba Storage no Spark UI agora mostra o dataframe em cache\n",
    "![storage](images/storage.png)"
   ]
  },
  {
   "cell_type": "code",
   "execution_count": 22,
   "id": "7fbc41ad",
   "metadata": {},
   "outputs": [
    {
     "name": "stdout",
     "output_type": "stream",
     "text": [
      "+------------+------------------------------+\n",
      "|id_municipio|sum(qtde_nascimentos_ate_2010)|\n",
      "+------------+------------------------------+\n",
      "|     1302108|                           976|\n",
      "|     1100114|                         22814|\n",
      "|     1100502|                          1315|\n",
      "|     1300805|                          9612|\n",
      "|     1100403|                          3305|\n",
      "|     1100288|                         23291|\n",
      "|     1304260|                          2009|\n",
      "|     1101500|                          1525|\n",
      "|     1303205|                          2702|\n",
      "|     1300409|                          5270|\n",
      "|     1100189|                         12531|\n",
      "|     1100924|                          1227|\n",
      "|     1302405|                         16928|\n",
      "|     1100049|                         41094|\n",
      "|     1100262|                           345|\n",
      "|     1101708|                          2203|\n",
      "|     1200401|                        221042|\n",
      "|     1301852|                         15026|\n",
      "|     1100379|                          1852|\n",
      "|     1500131|                           979|\n",
      "+------------+------------------------------+\n",
      "only showing top 20 rows\n",
      "\n"
     ]
    }
   ],
   "source": [
    "dfc_m = df.groupby(\"id_municipio\").sum()\n",
    "dfc_m.show()"
   ]
  },
  {
   "cell_type": "markdown",
   "id": "4fed3c77",
   "metadata": {},
   "source": [
    "jobs 34-37 são do agrupamento para obter `dfc_m` <br>\n",
    "![cache_jobs2](images/cache_jobs2.png)"
   ]
  },
  {
   "cell_type": "markdown",
   "id": "42649653",
   "metadata": {},
   "source": [
    "## Spark solucionando casos reais!\n",
    "![anbima_case](images/anbima_case.png)"
   ]
  },
  {
   "cell_type": "markdown",
   "id": "14242679",
   "metadata": {},
   "source": [
    "## Referências\n",
    "\n",
    "- https://luminousmen.com/post/hadoop-yarn-spark\n",
    "- https://luminousmen.com/post/spark-tips-dataframe-api\n",
    "- https://sparkbyexamples.com/\n",
    "- https://spark.apache.org/docs/3.0.0-preview2/web-ui.html\n",
    "- https://www.youtube.com/watch?v=daXEp4HmS-E&feature=youtu.be\n",
    "- https://spark.apache.org/docs/latest/sql-performance-tuning.html\n",
    "- https://databricks.com/blog/2015/07/15/introducing-window-functions-in-spark-sql.html\n",
    "- https://spark.apache.org/docs/3.0.0-preview/sql-ref-nan-semantics.html\n",
    "- https://databricks.com/blog/2015/04/13/deep-dive-into-spark-sqls-catalyst-optimizer.html\n",
    "- https://www.tutorialdocs.com/article/spark-memory-management.html\n",
    "- https://blog.scottlogic.com/2018/03/22/apache-spark-performance.html\n",
    "- https://medium.com/@goyalsaurabh66/spark-basics-rdds-stages-tasks-and-dag-8da0f52f0454\n",
    "- https://ichi.pro/pt/planos-de-consulta-do-spark-para-leigos-122282881757510\n",
    "- https://blog.knoldus.com/understanding-sparks-logical-and-physical-plan-in-laymans-term/\n",
    "- https://medium.com/datalex/sparks-logical-and-physical-plans-when-why-how-and-beyond-8cd1947b605a"
   ]
  },
  {
   "cell_type": "markdown",
   "id": "bc7957dc",
   "metadata": {},
   "source": [
    "![obrigada](images/obrigada.png)"
   ]
  }
 ],
 "metadata": {
  "kernelspec": {
   "display_name": "Python 3",
   "language": "python",
   "name": "python3"
  },
  "language_info": {
   "codemirror_mode": {
    "name": "ipython",
    "version": 3
   },
   "file_extension": ".py",
   "mimetype": "text/x-python",
   "name": "python",
   "nbconvert_exporter": "python",
   "pygments_lexer": "ipython3",
   "version": "3.8.8"
  }
 },
 "nbformat": 4,
 "nbformat_minor": 5
}
